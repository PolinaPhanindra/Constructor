{
  "nbformat": 4,
  "nbformat_minor": 0,
  "metadata": {
    "colab": {
      "provenance": [],
      "authorship_tag": "ABX9TyOhSuWZJ2kOVp43Y9GS5h3K",
      "include_colab_link": true
    },
    "kernelspec": {
      "name": "python3",
      "display_name": "Python 3"
    },
    "language_info": {
      "name": "python"
    }
  },
  "cells": [
    {
      "cell_type": "markdown",
      "metadata": {
        "id": "view-in-github",
        "colab_type": "text"
      },
      "source": [
        "<a href=\"https://colab.research.google.com/github/PolinaPhanindra/Constructor/blob/Python/Untitled0.ipynb\" target=\"_parent\"><img src=\"https://colab.research.google.com/assets/colab-badge.svg\" alt=\"Open In Colab\"/></a>"
      ]
    },
    {
      "cell_type": "code",
      "execution_count": null,
      "metadata": {
        "colab": {
          "base_uri": "https://localhost:8080/"
        },
        "id": "N6JMLBKbSBbE",
        "outputId": "8d6e4790-8f22-40bd-be25-c46b2e3226b5"
      },
      "outputs": [
        {
          "output_type": "stream",
          "name": "stdout",
          "text": [
            "A\n",
            "Hello A\n"
          ]
        }
      ],
      "source": [
        "#Given a name A as input. Print \"Hello A\", where A is the name in input.\n",
        "def main():\n",
        "\n",
        "    name = input()\n",
        "\n",
        "\n",
        "    print(\"Hello\", name)\n",
        "\n",
        "if __name__ == '__main__':\n",
        "    main()"
      ]
    },
    {
      "cell_type": "code",
      "source": [
        "#Your friend Rahul plans to visit exotic countries all around the world. Sadly, Rahul's math skills aren't good enough. Given the amount of money Rahul has before the currency exchange and the amount of money that is spent from his savings, print the amount of money that remains in his savings.\n",
        "N=int(input(\"enter the amount in saving\" ))\n",
        "M=int(input(\"enter the amount in spending\" ))\n",
        "total_savings= N - M\n",
        "print(\"Total saving left is:\", total_savings)"
      ],
      "metadata": {
        "colab": {
          "base_uri": "https://localhost:8080/"
        },
        "id": "wN4-asTOWa2F",
        "outputId": "fa67afd7-a9e5-44ab-b87a-634dc82a2b45"
      },
      "execution_count": null,
      "outputs": [
        {
          "output_type": "stream",
          "name": "stdout",
          "text": [
            "enter the amount in saving100\n",
            "enter the amount in spending20\n",
            "Total saving left is: 80\n"
          ]
        }
      ]
    },
    {
      "cell_type": "code",
      "source": [
        "#Print the first five letters of the English alphabet i.e. A, B, C, D and E.\n",
        "print (\"A\",\"B\",\"C\",\"D\",\"E\", sep ='\\n')"
      ],
      "metadata": {
        "colab": {
          "base_uri": "https://localhost:8080/"
        },
        "id": "SN3hIsY_WjtS",
        "outputId": "7f7ea941-8d82-42e5-9c30-1f1ae79cc108"
      },
      "execution_count": null,
      "outputs": [
        {
          "output_type": "stream",
          "name": "stdout",
          "text": [
            "A\n",
            "B\n",
            "C\n",
            "D\n",
            "E\n"
          ]
        }
      ]
    },
    {
      "cell_type": "code",
      "source": [
        "#Given two names A and B as input, print \"A says Hi to B\" (Without quotations), where A and B are the names in input.\n",
        "A=input(\"Enter the first person name\")\n",
        "B=input(\"Enter the second person name\")\n",
        "print(A,'says Hi to', B)"
      ],
      "metadata": {
        "colab": {
          "base_uri": "https://localhost:8080/"
        },
        "id": "czrSml3eW6kg",
        "outputId": "cf79bf44-c717-4fb4-e25a-0065ba65acb9"
      },
      "execution_count": null,
      "outputs": [
        {
          "output_type": "stream",
          "name": "stdout",
          "text": [
            "Enter the first person nameRam\n",
            "Enter the second person nameShyam\n",
            "Ram says Hi to Shyam\n"
          ]
        }
      ]
    },
    {
      "cell_type": "code",
      "source": [
        "#Take two strings \"str1\" and \"str2\" as input. Then your task is to concatenate the two strings and print the resultant concatenated string.\n",
        "def main():\n",
        "    str1= input(\"Enter the first String\")\n",
        "    str2=input(\"Enter the Second String\")\n",
        "    print(\"The resultant concatenated string\", str1+str2)\n",
        "\n",
        "    return 0\n",
        "\n",
        "if __name__ == '__main__':\n",
        "    main()"
      ],
      "metadata": {
        "colab": {
          "base_uri": "https://localhost:8080/"
        },
        "id": "uWAkhiueXHf-",
        "outputId": "98ec042d-cf7c-4c81-c9e0-4fbb60e2dc48"
      },
      "execution_count": null,
      "outputs": [
        {
          "output_type": "stream",
          "name": "stdout",
          "text": [
            "Enter the first StringRam\n",
            "Enter the Second StringSita\n",
            "The resultant concatenated string RamSita\n"
          ]
        }
      ]
    },
    {
      "cell_type": "code",
      "source": [
        "#You're going to write some code to help you cook a gorgeous lasagna from your favorite cookbook. According to your cookbook, the Lasagna should be in the oven for 40 minutes. Given the time (in minutes), the lasagna has been in the oven, find how many more minutes the lasagna still needs to bake for.\n",
        "N=int(input(\"Enter time to put it in oven\"))\n",
        "time_to_cook = 40\n",
        "time_left=time_to_cook - N\n",
        "print(\"Totak time left to cook lasagna is:\", time_left)"
      ],
      "metadata": {
        "colab": {
          "base_uri": "https://localhost:8080/"
        },
        "id": "ipfhLhtQXd9M",
        "outputId": "8e4d340e-3890-4863-fc83-5b9e9ac92852"
      },
      "execution_count": null,
      "outputs": [
        {
          "output_type": "stream",
          "name": "stdout",
          "text": [
            "Enter time to put it in oven20\n",
            "Totak time left to cook lasagna is: 20\n"
          ]
        }
      ]
    },
    {
      "cell_type": "code",
      "source": [
        "#You'll write some code to help you cook a gorgeous lasagna from your favorite cookbook. Now, you also want to add a few layers to the lasagna. Assume **each layer takes 2 minutes** to prepare. Given the number of layers you want to add to the lasagna, find how many minutes you would spend making them.\n",
        "def main():\n",
        "    N= int(input(\"Enter time for prepping the layer:\"))\n",
        "    time_for_each_layer= 2\n",
        "    time_for_layers= time_for_each_layer * N\n",
        "    print(\"Total time took for layer in minutes is:\", time_for_layers)\n",
        "\n",
        "\n",
        "    return 0\n",
        "\n",
        "if __name__ == '__main__':\n",
        "    main()"
      ],
      "metadata": {
        "colab": {
          "base_uri": "https://localhost:8080/"
        },
        "id": "8iR8wHwzX3Pv",
        "outputId": "bb2d4759-c751-40b7-cf1b-bdcd609e223a"
      },
      "execution_count": null,
      "outputs": [
        {
          "output_type": "stream",
          "name": "stdout",
          "text": [
            "Enter time for prepping the layer:5\n",
            "Total time took for layer in minutes is: 10\n"
          ]
        }
      ]
    },
    {
      "cell_type": "code",
      "source": [
        "#You wrote some code to help you cook a gorgeous lasagna from your favorite cookbook. Now, you want to find the total number of minutes you've been cooking for the sum of your preparation time and the time the lasagna has already spent baking in the oven. The preparation time of one layer is 2 minutes. Given the number of layers added to the lasagna and the number of minutes the lasagna has been baking in the oven, find the total elapsed cooking time (prep + bake) in minutes.\n",
        "N=int(input(\"Enter the number of layers in lasagna:\"))\n",
        "M=int(input(\"Enter the time to bake lasagna:\"))\n",
        "time_for_layer= N*2\n",
        "total_time=time_for_layer+M\n",
        "print(\"Total time took to cook lasagna from prepping to bake in minutes is:\",total_time)"
      ],
      "metadata": {
        "colab": {
          "base_uri": "https://localhost:8080/"
        },
        "id": "FHCCdwNVYTur",
        "outputId": "060dd323-288c-4b4c-fc91-14b3cfd2aee7"
      },
      "execution_count": null,
      "outputs": [
        {
          "output_type": "stream",
          "name": "stdout",
          "text": [
            "Enter the number of layers in lasagna:3\n",
            "Enter the time to bake lasagna:40\n",
            "Total time took to cook lasagna from prepping to bake in minutes is: 46\n"
          ]
        }
      ]
    },
    {
      "cell_type": "code",
      "source": [
        "#Given the value of a single bill and the number of bills you received, print the total value of the bills.\n",
        "N=int(input(\"Enter the value of single bill:\"))\n",
        "M=int(input(\"Enter the number of bills: \"))\n",
        "total_bills=N*M\n",
        "print(\"Total number of bills is:\",total_bills)"
      ],
      "metadata": {
        "colab": {
          "base_uri": "https://localhost:8080/"
        },
        "id": "-P2zRObuY7E7",
        "outputId": "b7116db1-396d-4e90-8158-e47f71b27b42"
      },
      "execution_count": null,
      "outputs": [
        {
          "output_type": "stream",
          "name": "stdout",
          "text": [
            "Enter the value of single bill:4\n",
            "Enter the number of bills: 10\n",
            "Total number of bills is: 40\n"
          ]
        }
      ]
    },
    {
      "cell_type": "code",
      "source": [
        "print(100/30)\n",
        "print(100//30)"
      ],
      "metadata": {
        "colab": {
          "base_uri": "https://localhost:8080/"
        },
        "id": "4NYa5zJsZZqR",
        "outputId": "13b82cdf-9685-49bf-e7ab-bb9ffdce1861"
      },
      "execution_count": null,
      "outputs": [
        {
          "output_type": "stream",
          "name": "stdout",
          "text": [
            "3.3333333333333335\n",
            "3\n"
          ]
        }
      ]
    },
    {
      "cell_type": "code",
      "source": [
        "print(-15%4)"
      ],
      "metadata": {
        "colab": {
          "base_uri": "https://localhost:8080/"
        },
        "id": "zO79zYqcmZv_",
        "outputId": "a6065112-4c2e-4240-fca3-9b7442ea2624"
      },
      "execution_count": null,
      "outputs": [
        {
          "output_type": "stream",
          "name": "stdout",
          "text": [
            "1\n"
          ]
        }
      ]
    },
    {
      "cell_type": "code",
      "source": [
        "print(11//2)"
      ],
      "metadata": {
        "colab": {
          "base_uri": "https://localhost:8080/"
        },
        "id": "Y-awVAiDnV2O",
        "outputId": "eabfa44d-c336-4aa5-fc2f-9ae029025479"
      },
      "execution_count": null,
      "outputs": [
        {
          "output_type": "stream",
          "name": "stdout",
          "text": [
            "5\n"
          ]
        }
      ]
    },
    {
      "cell_type": "code",
      "source": [
        "print(10 - 4*2+5-6//2)"
      ],
      "metadata": {
        "colab": {
          "base_uri": "https://localhost:8080/"
        },
        "id": "8cSnUbSSqjNZ",
        "outputId": "0532a243-0af2-459b-d41c-78f62f0fbf49"
      },
      "execution_count": null,
      "outputs": [
        {
          "output_type": "stream",
          "name": "stdout",
          "text": [
            "4\n"
          ]
        }
      ]
    },
    {
      "cell_type": "code",
      "source": [
        "x = 10\n",
        "y = 2.5\n",
        "print(x / y)\n"
      ],
      "metadata": {
        "colab": {
          "base_uri": "https://localhost:8080/"
        },
        "id": "ojUIV9OXqybX",
        "outputId": "cb1b3a40-39d8-4fd3-80e5-aeddd74ff992"
      },
      "execution_count": null,
      "outputs": [
        {
          "output_type": "stream",
          "name": "stdout",
          "text": [
            "4.0\n"
          ]
        }
      ]
    },
    {
      "cell_type": "code",
      "source": [
        "3.5+3.5"
      ],
      "metadata": {
        "colab": {
          "base_uri": "https://localhost:8080/"
        },
        "id": "rsgJIAJE5EV6",
        "outputId": "aa7b24de-584d-4bfa-df84-9b422a2d6844"
      },
      "execution_count": null,
      "outputs": [
        {
          "output_type": "execute_result",
          "data": {
            "text/plain": [
              "7.0"
            ]
          },
          "metadata": {},
          "execution_count": 9
        }
      ]
    },
    {
      "cell_type": "code",
      "source": [
        "1.0+2\n"
      ],
      "metadata": {
        "colab": {
          "base_uri": "https://localhost:8080/"
        },
        "id": "REYKWDaW5WA3",
        "outputId": "46126f90-3f55-45aa-b16b-9905599ad8bc"
      },
      "execution_count": null,
      "outputs": [
        {
          "output_type": "execute_result",
          "data": {
            "text/plain": [
              "3.0"
            ]
          },
          "metadata": {},
          "execution_count": 10
        }
      ]
    },
    {
      "cell_type": "code",
      "source": [
        "print(10**-1)"
      ],
      "metadata": {
        "colab": {
          "base_uri": "https://localhost:8080/"
        },
        "id": "nV--3x3F5mEJ",
        "outputId": "fb30575b-5b89-4245-e256-c32efc55cf7f"
      },
      "execution_count": null,
      "outputs": [
        {
          "output_type": "stream",
          "name": "stdout",
          "text": [
            "0.1\n"
          ]
        }
      ]
    },
    {
      "cell_type": "code",
      "source": [
        "-10//3"
      ],
      "metadata": {
        "colab": {
          "base_uri": "https://localhost:8080/"
        },
        "id": "ayiJn8qa5xHL",
        "outputId": "2883f13b-7d6d-4bad-a691-0625902e8357"
      },
      "execution_count": null,
      "outputs": [
        {
          "output_type": "execute_result",
          "data": {
            "text/plain": [
              "-4"
            ]
          },
          "metadata": {},
          "execution_count": 12
        }
      ]
    },
    {
      "cell_type": "code",
      "source": [
        "x = 10\n",
        "print(x // 0)"
      ],
      "metadata": {
        "colab": {
          "base_uri": "https://localhost:8080/",
          "height": 197
        },
        "id": "8m2-GN4m6CDf",
        "outputId": "aa4b85e9-e640-4183-ad96-ea64e27a1e93"
      },
      "execution_count": null,
      "outputs": [
        {
          "output_type": "error",
          "ename": "ZeroDivisionError",
          "evalue": "ignored",
          "traceback": [
            "\u001b[0;31m---------------------------------------------------------------------------\u001b[0m",
            "\u001b[0;31mZeroDivisionError\u001b[0m                         Traceback (most recent call last)",
            "\u001b[0;32m<ipython-input-13-7dc17abd98e0>\u001b[0m in \u001b[0;36m<cell line: 2>\u001b[0;34m()\u001b[0m\n\u001b[1;32m      1\u001b[0m \u001b[0mx\u001b[0m \u001b[0;34m=\u001b[0m \u001b[0;36m10\u001b[0m\u001b[0;34m\u001b[0m\u001b[0;34m\u001b[0m\u001b[0m\n\u001b[0;32m----> 2\u001b[0;31m \u001b[0mprint\u001b[0m\u001b[0;34m(\u001b[0m\u001b[0mx\u001b[0m \u001b[0;34m//\u001b[0m \u001b[0;36m0\u001b[0m\u001b[0;34m)\u001b[0m\u001b[0;34m\u001b[0m\u001b[0;34m\u001b[0m\u001b[0m\n\u001b[0m",
            "\u001b[0;31mZeroDivisionError\u001b[0m: integer division or modulo by zero"
          ]
        }
      ]
    },
    {
      "cell_type": "code",
      "source": [
        "x = 11\n",
        "y = 2\n",
        "z = 4\n",
        "res = (x + y - z) ** (x % z)\n",
        "print(res)"
      ],
      "metadata": {
        "colab": {
          "base_uri": "https://localhost:8080/"
        },
        "id": "wO0KDF646J_4",
        "outputId": "ad93ef97-f851-44c8-c49d-72b628aeddfd"
      },
      "execution_count": null,
      "outputs": [
        {
          "output_type": "stream",
          "name": "stdout",
          "text": [
            "729\n"
          ]
        }
      ]
    },
    {
      "cell_type": "code",
      "source": [
        "print(bool('false'))"
      ],
      "metadata": {
        "colab": {
          "base_uri": "https://localhost:8080/"
        },
        "id": "unFRGhka6W6h",
        "outputId": "2ad5f5ef-ece0-464a-a55f-e257d972acd9"
      },
      "execution_count": null,
      "outputs": [
        {
          "output_type": "stream",
          "name": "stdout",
          "text": [
            "True\n"
          ]
        }
      ]
    },
    {
      "cell_type": "code",
      "source": [
        "print(int(True))"
      ],
      "metadata": {
        "colab": {
          "base_uri": "https://localhost:8080/"
        },
        "id": "ELeqC-Mf7AOq",
        "outputId": "633f135f-b539-4f78-8048-f19c9379e2d2"
      },
      "execution_count": null,
      "outputs": [
        {
          "output_type": "stream",
          "name": "stdout",
          "text": [
            "1\n"
          ]
        }
      ]
    },
    {
      "cell_type": "code",
      "source": [
        "print(True == 1)"
      ],
      "metadata": {
        "id": "9HG-JDAg7OyD",
        "colab": {
          "base_uri": "https://localhost:8080/"
        },
        "outputId": "ea7b3eed-4fea-42b1-a6a1-e8c1d1ff6aa2"
      },
      "execution_count": 1,
      "outputs": [
        {
          "output_type": "stream",
          "name": "stdout",
          "text": [
            "True\n"
          ]
        }
      ]
    },
    {
      "cell_type": "code",
      "source": [
        "print(\"1\" == 1)"
      ],
      "metadata": {
        "colab": {
          "base_uri": "https://localhost:8080/"
        },
        "id": "j1MAjkClC2nF",
        "outputId": "9859cb62-469e-48c6-c4a9-403adadbe658"
      },
      "execution_count": 2,
      "outputs": [
        {
          "output_type": "stream",
          "name": "stdout",
          "text": [
            "False\n"
          ]
        }
      ]
    },
    {
      "cell_type": "code",
      "source": [
        "x = 55 / 11\n",
        "print(x)\n"
      ],
      "metadata": {
        "colab": {
          "base_uri": "https://localhost:8080/"
        },
        "id": "1VrtDUnlC5ly",
        "outputId": "80c8d1a3-4650-4115-ec47-d3f2c4d1b7e8"
      },
      "execution_count": 3,
      "outputs": [
        {
          "output_type": "stream",
          "name": "stdout",
          "text": [
            "5.0\n"
          ]
        }
      ]
    },
    {
      "cell_type": "code",
      "source": [
        "# 9/24/2023 Python class on Control statments"
      ],
      "metadata": {
        "id": "qBpC1wUfC817"
      },
      "execution_count": 1,
      "outputs": []
    },
    {
      "cell_type": "code",
      "source": [
        "chefmood =input(\"please enter the mood of the Chef:\")\n",
        "if chefmood==\"Happy\":\n",
        "  qualityOfFood=\"Great\"\n",
        "else:\n",
        "  qualityOfFood=\"Not Great\"\n",
        "print(\" The Food of quality will be\", qualityOfFood)"
      ],
      "metadata": {
        "colab": {
          "base_uri": "https://localhost:8080/"
        },
        "id": "5of85WIC98x-",
        "outputId": "2ab74227-d4f5-4aa1-f5ed-51e263b44a05"
      },
      "execution_count": 8,
      "outputs": [
        {
          "output_type": "stream",
          "name": "stdout",
          "text": [
            "please enter the mood of the Chef:Happy\n",
            " The Food of quality will be Great\n"
          ]
        }
      ]
    },
    {
      "cell_type": "code",
      "source": [
        "chefmood =\"Sad\"\n",
        "if chefmood==\"Happy\":\n",
        "  qualityOfFood=\"Great\"\n",
        "else:\n",
        "  qualityOfFood=\"Not Great\"\n",
        "print(\" The Food of quality will be\", qualityOfFood)"
      ],
      "metadata": {
        "colab": {
          "base_uri": "https://localhost:8080/"
        },
        "id": "BQETA4H_FRkT",
        "outputId": "2c29248f-9a6c-4f33-b191-ff866bd07289"
      },
      "execution_count": 5,
      "outputs": [
        {
          "output_type": "stream",
          "name": "stdout",
          "text": [
            " The Food of quality will be Not Great\n"
          ]
        }
      ]
    },
    {
      "cell_type": "code",
      "source": [
        "userNumber1 =int(input(\"please enter the Number:\"))\n",
        "userNumber=userNumber1**3\n",
        "if userNumber >= 50:\n",
        "  print(\"This is huge number\")\n",
        "else:\n",
        "  print(\"this is tiny number\")\n",
        "print(\"Execution complete\")"
      ],
      "metadata": {
        "colab": {
          "base_uri": "https://localhost:8080/"
        },
        "id": "QsYeLGfDJs6p",
        "outputId": "be4d56e6-820c-4bcf-8dac-5a43ebc63039"
      },
      "execution_count": 9,
      "outputs": [
        {
          "output_type": "stream",
          "name": "stdout",
          "text": [
            "please enter the Number:5\n",
            "This is huge number\n",
            "Execution complete\n"
          ]
        }
      ]
    },
    {
      "cell_type": "code",
      "source": [
        "time=int(input(\"Enter the time\"))\n",
        "if time >= 1 and time <12:\n",
        "  print(\"Good morning\")\n",
        "elif time >=12 and time<17:\n",
        "  print(\"Good Afternoon\")\n",
        "elif time >= 17 and time <20:\n",
        "  print(\"Good Evening\")\n",
        "else:\n",
        "  print(\"Good Night\")"
      ],
      "metadata": {
        "colab": {
          "base_uri": "https://localhost:8080/"
        },
        "id": "KCuLJNcVLCYq",
        "outputId": "cc5819de-32ee-43d8-dba7-6c14992553f9"
      },
      "execution_count": 15,
      "outputs": [
        {
          "output_type": "stream",
          "name": "stdout",
          "text": [
            "Enter the time19\n",
            "Good Evening\n"
          ]
        }
      ]
    },
    {
      "cell_type": "code",
      "source": [
        "Integer=int(input(\"\"))\n",
        "if Integer == 0:\n",
        "  print(\"zero\")\n",
        "elif Integer >0:\n",
        "  print(\"positive\")\n",
        "else:\n",
        "  print(\"negative\")"
      ],
      "metadata": {
        "colab": {
          "base_uri": "https://localhost:8080/"
        },
        "id": "B7Bksv9bL0lW",
        "outputId": "bdbae829-f28c-44a2-d007-4e45b9bfeadb"
      },
      "execution_count": 22,
      "outputs": [
        {
          "output_type": "stream",
          "name": "stdout",
          "text": [
            "1\n",
            "negative\n"
          ]
        }
      ]
    },
    {
      "cell_type": "code",
      "source": [
        "#Question 3 -\n",
        "#Take a non-negative single digit positive number as input.\n",
        "#If num**5%50+20-6 is > 15\n",
        "#then print(\"BLACK\") else print(\"BLUE\"). Note - Reject by saying \"INVALID INPUT\" any inputs which are not single digit or positive\n",
        "num = int(input())\n",
        "if num < 10 and num > 0:\n",
        "    if num**5%50+20-6 > 15:\n",
        "        print(\"BLACK\")\n",
        "    else:\n",
        "        print(\"BLUE\")\n",
        "else:\n",
        "    print(\"INVALID INPUT\")"
      ],
      "metadata": {
        "colab": {
          "base_uri": "https://localhost:8080/"
        },
        "id": "CLgadd8qNTGF",
        "outputId": "fdffa49c-848d-4a55-875e-2783159ffafd"
      },
      "execution_count": 27,
      "outputs": [
        {
          "output_type": "stream",
          "name": "stdout",
          "text": [
            "1\n",
            "BLUE\n"
          ]
        }
      ]
    },
    {
      "cell_type": "code",
      "source": [
        "num=int(input())\n",
        "if num<10 and num>0:\n",
        "  if num**5%50+20-6 > 15:\n",
        "    print(\"BLACK\")\n",
        "  else:\n",
        "    print(\"BLUE\")\n",
        "else:\n",
        "  print(\"INVALID INPUT\")"
      ],
      "metadata": {
        "colab": {
          "base_uri": "https://localhost:8080/"
        },
        "id": "MR8uDsMaUFXO",
        "outputId": "22a047e5-58aa-452d-c145-b8f895998078"
      },
      "execution_count": 30,
      "outputs": [
        {
          "output_type": "stream",
          "name": "stdout",
          "text": [
            "1\n",
            "BLUE\n"
          ]
        }
      ]
    },
    {
      "cell_type": "code",
      "source": [
        "#Question 4:\n",
        "#Ask the user, what language they like\n",
        "#If they are saying \"python\", say good choice else say you need to think again\n",
        "\n",
        "User=input(\" What language do you like:\")\n",
        "if User.lower() ==\"python\":\n",
        "  print(\"good choice\")\n",
        "else:\n",
        "  print(\"you need to think again\")"
      ],
      "metadata": {
        "colab": {
          "base_uri": "https://localhost:8080/"
        },
        "id": "rfbhiajmVbtX",
        "outputId": "2edaa185-fa0e-47ff-b1c4-490e56f94267"
      },
      "execution_count": 34,
      "outputs": [
        {
          "output_type": "stream",
          "name": "stdout",
          "text": [
            " What language do you like:PYTHON\n",
            "good choice\n"
          ]
        }
      ]
    },
    {
      "cell_type": "code",
      "source": [
        "#Question 5:\n",
        "#FIZZBUZZ\n",
        "#ask the user for an integer\n",
        "#if it is divisible by 3--> say FIZZ\n",
        "#if it is divisible by 5--> say BUZZ\n",
        "#if it is divisible by 3 as well as 5--> say FIZZBUZZ\n",
        "#If not divisible by any of the above, do nothing\n",
        "integer=int(input())\n",
        "if integer% 3 ==0 and integer%5==0:\n",
        "  print(\"FizzBuzz\")\n",
        "elif integer%5 ==0:\n",
        "  print(\"Buzz\")\n",
        "elif integer%3 ==0:\n",
        "  print(\"Fizz\")\n"
      ],
      "metadata": {
        "colab": {
          "base_uri": "https://localhost:8080/"
        },
        "id": "0fyrUsjZV0g7",
        "outputId": "927dc349-5eb0-4700-aad3-79c34e0cd855"
      },
      "execution_count": 46,
      "outputs": [
        {
          "output_type": "stream",
          "name": "stdout",
          "text": [
            "30\n",
            "FizzBuzz\n"
          ]
        }
      ]
    },
    {
      "cell_type": "code",
      "source": [],
      "metadata": {
        "id": "5ANkNUj5XbBR"
      },
      "execution_count": null,
      "outputs": []
    }
  ]
}
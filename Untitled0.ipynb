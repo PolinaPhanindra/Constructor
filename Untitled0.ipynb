{
  "nbformat": 4,
  "nbformat_minor": 0,
  "metadata": {
    "colab": {
      "provenance": [],
      "authorship_tag": "ABX9TyNBgTkJ/lBlxtWDDAPIZZoM",
      "include_colab_link": true
    },
    "kernelspec": {
      "name": "python3",
      "display_name": "Python 3"
    },
    "language_info": {
      "name": "python"
    }
  },
  "cells": [
    {
      "cell_type": "markdown",
      "metadata": {
        "id": "view-in-github",
        "colab_type": "text"
      },
      "source": [
        "<a href=\"https://colab.research.google.com/github/PolinaPhanindra/Constructor/blob/Python/Untitled0.ipynb\" target=\"_parent\"><img src=\"https://colab.research.google.com/assets/colab-badge.svg\" alt=\"Open In Colab\"/></a>"
      ]
    },
    {
      "cell_type": "code",
      "execution_count": 1,
      "metadata": {
        "colab": {
          "base_uri": "https://localhost:8080/"
        },
        "id": "N6JMLBKbSBbE",
        "outputId": "8d6e4790-8f22-40bd-be25-c46b2e3226b5"
      },
      "outputs": [
        {
          "output_type": "stream",
          "name": "stdout",
          "text": [
            "A\n",
            "Hello A\n"
          ]
        }
      ],
      "source": [
        "#Given a name A as input. Print \"Hello A\", where A is the name in input.\n",
        "def main():\n",
        "\n",
        "    name = input()\n",
        "\n",
        "\n",
        "    print(\"Hello\", name)\n",
        "\n",
        "if __name__ == '__main__':\n",
        "    main()"
      ]
    },
    {
      "cell_type": "code",
      "source": [
        "#Your friend Rahul plans to visit exotic countries all around the world. Sadly, Rahul's math skills aren't good enough. Given the amount of money Rahul has before the currency exchange and the amount of money that is spent from his savings, print the amount of money that remains in his savings.\n",
        "N=int(input(\"enter the amount in saving\" ))\n",
        "M=int(input(\"enter the amount in spending\" ))\n",
        "total_savings= N - M\n",
        "print(\"Total saving left is:\", total_savings)"
      ],
      "metadata": {
        "colab": {
          "base_uri": "https://localhost:8080/"
        },
        "id": "wN4-asTOWa2F",
        "outputId": "fa67afd7-a9e5-44ab-b87a-634dc82a2b45"
      },
      "execution_count": 3,
      "outputs": [
        {
          "output_type": "stream",
          "name": "stdout",
          "text": [
            "enter the amount in saving100\n",
            "enter the amount in spending20\n",
            "Total saving left is: 80\n"
          ]
        }
      ]
    },
    {
      "cell_type": "code",
      "source": [
        "#Print the first five letters of the English alphabet i.e. A, B, C, D and E.\n",
        "print (\"A\",\"B\",\"C\",\"D\",\"E\", sep ='\\n')"
      ],
      "metadata": {
        "colab": {
          "base_uri": "https://localhost:8080/"
        },
        "id": "SN3hIsY_WjtS",
        "outputId": "7f7ea941-8d82-42e5-9c30-1f1ae79cc108"
      },
      "execution_count": 4,
      "outputs": [
        {
          "output_type": "stream",
          "name": "stdout",
          "text": [
            "A\n",
            "B\n",
            "C\n",
            "D\n",
            "E\n"
          ]
        }
      ]
    },
    {
      "cell_type": "code",
      "source": [
        "#Given two names A and B as input, print \"A says Hi to B\" (Without quotations), where A and B are the names in input.\n",
        "A=input(\"Enter the first person name\")\n",
        "B=input(\"Enter the second person name\")\n",
        "print(A,'says Hi to', B)"
      ],
      "metadata": {
        "colab": {
          "base_uri": "https://localhost:8080/"
        },
        "id": "czrSml3eW6kg",
        "outputId": "cf79bf44-c717-4fb4-e25a-0065ba65acb9"
      },
      "execution_count": 5,
      "outputs": [
        {
          "output_type": "stream",
          "name": "stdout",
          "text": [
            "Enter the first person nameRam\n",
            "Enter the second person nameShyam\n",
            "Ram says Hi to Shyam\n"
          ]
        }
      ]
    },
    {
      "cell_type": "code",
      "source": [
        "#Take two strings \"str1\" and \"str2\" as input. Then your task is to concatenate the two strings and print the resultant concatenated string.\n",
        "def main():\n",
        "    str1= input(\"Enter the first String\")\n",
        "    str2=input(\"Enter the Second String\")\n",
        "    print(\"The resultant concatenated string\", str1+str2)\n",
        "\n",
        "    return 0\n",
        "\n",
        "if __name__ == '__main__':\n",
        "    main()"
      ],
      "metadata": {
        "colab": {
          "base_uri": "https://localhost:8080/"
        },
        "id": "uWAkhiueXHf-",
        "outputId": "98ec042d-cf7c-4c81-c9e0-4fbb60e2dc48"
      },
      "execution_count": 7,
      "outputs": [
        {
          "output_type": "stream",
          "name": "stdout",
          "text": [
            "Enter the first StringRam\n",
            "Enter the Second StringSita\n",
            "The resultant concatenated string RamSita\n"
          ]
        }
      ]
    },
    {
      "cell_type": "code",
      "source": [
        "#You're going to write some code to help you cook a gorgeous lasagna from your favorite cookbook. According to your cookbook, the Lasagna should be in the oven for 40 minutes. Given the time (in minutes), the lasagna has been in the oven, find how many more minutes the lasagna still needs to bake for.\n",
        "N=int(input(\"Enter time to put it in oven\"))\n",
        "time_to_cook = 40\n",
        "time_left=time_to_cook - N\n",
        "print(\"Totak time left to cook lasagna is:\", time_left)"
      ],
      "metadata": {
        "colab": {
          "base_uri": "https://localhost:8080/"
        },
        "id": "ipfhLhtQXd9M",
        "outputId": "8e4d340e-3890-4863-fc83-5b9e9ac92852"
      },
      "execution_count": 8,
      "outputs": [
        {
          "output_type": "stream",
          "name": "stdout",
          "text": [
            "Enter time to put it in oven20\n",
            "Totak time left to cook lasagna is: 20\n"
          ]
        }
      ]
    },
    {
      "cell_type": "code",
      "source": [
        "#You'll write some code to help you cook a gorgeous lasagna from your favorite cookbook. Now, you also want to add a few layers to the lasagna. Assume **each layer takes 2 minutes** to prepare. Given the number of layers you want to add to the lasagna, find how many minutes you would spend making them.\n",
        "def main():\n",
        "    N= int(input(\"Enter time for prepping the layer:\"))\n",
        "    time_for_each_layer= 2\n",
        "    time_for_layers= time_for_each_layer * N\n",
        "    print(\"Total time took for layer in minutes is:\", time_for_layers)\n",
        "\n",
        "\n",
        "    return 0\n",
        "\n",
        "if __name__ == '__main__':\n",
        "    main()"
      ],
      "metadata": {
        "colab": {
          "base_uri": "https://localhost:8080/"
        },
        "id": "8iR8wHwzX3Pv",
        "outputId": "bb2d4759-c751-40b7-cf1b-bdcd609e223a"
      },
      "execution_count": 11,
      "outputs": [
        {
          "output_type": "stream",
          "name": "stdout",
          "text": [
            "Enter time for prepping the layer:5\n",
            "Total time took for layer in minutes is: 10\n"
          ]
        }
      ]
    },
    {
      "cell_type": "code",
      "source": [
        "#You wrote some code to help you cook a gorgeous lasagna from your favorite cookbook. Now, you want to find the total number of minutes you've been cooking for the sum of your preparation time and the time the lasagna has already spent baking in the oven. The preparation time of one layer is 2 minutes. Given the number of layers added to the lasagna and the number of minutes the lasagna has been baking in the oven, find the total elapsed cooking time (prep + bake) in minutes.\n",
        "N=int(input(\"Enter the number of layers in lasagna:\"))\n",
        "M=int(input(\"Enter the time to bake lasagna:\"))\n",
        "time_for_layer= N*2\n",
        "total_time=time_for_layer+M\n",
        "print(\"Total time took to cook lasagna from prepping to bake in minutes is:\",total_time)"
      ],
      "metadata": {
        "colab": {
          "base_uri": "https://localhost:8080/"
        },
        "id": "FHCCdwNVYTur",
        "outputId": "060dd323-288c-4b4c-fc91-14b3cfd2aee7"
      },
      "execution_count": 13,
      "outputs": [
        {
          "output_type": "stream",
          "name": "stdout",
          "text": [
            "Enter the number of layers in lasagna:3\n",
            "Enter the time to bake lasagna:40\n",
            "Total time took to cook lasagna from prepping to bake in minutes is: 46\n"
          ]
        }
      ]
    },
    {
      "cell_type": "code",
      "source": [
        "#Given the value of a single bill and the number of bills you received, print the total value of the bills.\n",
        "N=int(input(\"Enter the value of single bill:\"))\n",
        "M=int(input(\"Enter the number of bills: \"))\n",
        "total_bills=N*M\n",
        "print(\"Total number of bills is:\",total_bills)"
      ],
      "metadata": {
        "colab": {
          "base_uri": "https://localhost:8080/"
        },
        "id": "-P2zRObuY7E7",
        "outputId": "b7116db1-396d-4e90-8158-e47f71b27b42"
      },
      "execution_count": 14,
      "outputs": [
        {
          "output_type": "stream",
          "name": "stdout",
          "text": [
            "Enter the value of single bill:4\n",
            "Enter the number of bills: 10\n",
            "Total number of bills is: 40\n"
          ]
        }
      ]
    },
    {
      "cell_type": "code",
      "source": [],
      "metadata": {
        "id": "4NYa5zJsZZqR"
      },
      "execution_count": null,
      "outputs": []
    }
  ]
}